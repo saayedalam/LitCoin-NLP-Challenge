{
 "cells": [
  {
   "cell_type": "markdown",
   "id": "4026245a-ef25-4d9a-ac5f-fd4287ce9bf5",
   "metadata": {},
   "source": [
    "### LitCoin NLP Challenge: Part 1\n",
    "\n",
    "*This 2-phase competition is part of the NASA Tournament Lab and hosted by NCBI (The National Center for Biotechnology Information), NCATS (The National Center for Advancing Translational Sciences) and NIH (National Institutes of Health). These institutions, in collaboration with bitgrit and CrowdPlat, have come together to bring this challenge where one can deploy their data-driven technology solutions towards accelerating scientific research in medicine and ensure that data from biomedical publications can be maximally leveraged and reach a wide range of biomedical researchers.*\n",
    "\n",
    "*Each phase of the competition is designed to spur innovation in the field of natural language processing, asking competitors to design systems that can accurately recognize scientific concepts from the text of scientific articles, connect those concepts into knowledge assertions, and determine if that claim is a novel finding or background information.*\n",
    "\n",
    ">Part 1: Given only an abstract text, the goal is to find all the nodes or biomedical entities (position in text and BioLink Model Category).    \n",
    ">Part 2: Given the abstract and the nodes annotated from it, the goal is to find all the relationships between them (pair of nodes, BioLink Model Predicate and novelty). \n",
    "\n",
    "**The goal of the first part of the LitCoin NLP Challenge is to identify the position and type of biomedical concepts (entities) mentions within a research paper’s title and abstract.**"
   ]
  },
  {
   "cell_type": "code",
   "execution_count": 68,
   "id": "c542cf58-4148-41d8-b054-81b627efe4b2",
   "metadata": {},
   "outputs": [],
   "source": [
    "# loading libraries\n",
    "import pandas as pd\n",
    "import numpy as np\n",
    "import spacy as sp"
   ]
  },
  {
   "cell_type": "code",
   "execution_count": 69,
   "id": "6de04257-f587-4cb2-beb9-a582b4d96810",
   "metadata": {},
   "outputs": [],
   "source": [
    "# loading data\n",
    "folder = 'C:/Users/saaye/OneDrive/Documents/Machine Learning Projects/LitCoin NLP Challenge/data/'\n",
    "\n",
    "abstract_test = pd.read_csv(folder + 'abstracts_test.csv', sep='\\t')\n",
    "abstract_train = pd.read_csv(folder + 'abstracts_train.csv', sep='\\t')\n",
    "entities_train = pd.read_csv(folder + 'entities_train.csv', sep='\\t')\n",
    "relations_train = pd.read_csv(folder + 'relations_train.csv', sep='\\t')\n",
    "submission_example = pd.read_csv(folder + 'submission_example.csv', sep='\\t')"
   ]
  },
  {
   "cell_type": "code",
   "execution_count": 70,
   "id": "47d23443-94c9-4b89-b5c9-b3f4cb661070",
   "metadata": {},
   "outputs": [
    {
     "name": "stdout",
     "output_type": "stream",
     "text": [
      "Abstract training dataset has 400 columns and 3 rows.\n",
      "Relations training dataset has 4280 columns and 6 rows.\n",
      "Entities training dataset has 13636 columns and 7 rows.\n"
     ]
    }
   ],
   "source": [
    "# printing dimensions of all datasets\n",
    "print(f'Abstract training dataset has {abstract_train.shape[0]} columns and {abstract_train.shape[1]} rows.')\n",
    "print(f'Relations training dataset has {relations_train.shape[0]} columns and {relations_train.shape[1]} rows.')\n",
    "print(f'Entities training dataset has {entities_train.shape[0]} columns and {entities_train.shape[1]} rows.')"
   ]
  },
  {
   "cell_type": "code",
   "execution_count": 71,
   "id": "b4c36056-e294-48c8-91e9-3efeac842e09",
   "metadata": {},
   "outputs": [
    {
     "name": "stdout",
     "output_type": "stream",
     "text": [
      "An example of an observation is as follows: \n",
      " # abstract_id: PubMed ID of the research paper. : 1353340\n",
      " # title: title of the research paper. : Late-onset metachromatic leukodystrophy: molecular pathology in two siblings.\n",
      " # abstract: abstract or summary of the research paper. : We report on a new allele at the arylsulfatase A (ARSA) locus causing late-onset metachromatic leukodystrophy (MLD). In that allele arginine84, a residue that is highly conserved in the arylsulfatase gene family, is replaced by glutamine. In contrast to alleles that cause early-onset MLD, the arginine84 to glutamine substitution is associated with some residual ARSA activity. A comparison of genotypes, ARSA activities, and clinical data on 4 individuals carrying the allele of 81 patients with MLD examined, further validates the concept that different degrees of residual ARSA activity are the basis of phenotypical variation in MLD.. \n"
     ]
    }
   ],
   "source": [
    "# printing an example of the abstract database\n",
    "print(f'An example of an observation is as follows: \\n # abstract_id: PubMed ID of the research paper. : {abstract_train[\"abstract_id\"][0]}')\n",
    "print(f' # title: title of the research paper. : {abstract_train[\"title\"][0]}')\n",
    "print(f' # abstract: abstract or summary of the research paper. : {abstract_train[\"abstract\"][0]}')"
   ]
  },
  {
   "cell_type": "code",
   "execution_count": 72,
   "id": "810fbf03-60cf-49b5-aed0-d04b688f41fd",
   "metadata": {},
   "outputs": [],
   "source": [
    "# input string considered for these indices is the concatenation of the title and abstract strings\n",
    "abstract_test[\"full\"] = abstract_test[\"title\"] + ' ' + abstract_test[\"abstract\"]\n",
    "abstract_test = abstract_test.reset_index().rename(columns={\"index\": \"id\"})"
   ]
  },
  {
   "cell_type": "markdown",
   "id": "323aec40-efd6-4fa6-8aec-4dfc277702ab",
   "metadata": {},
   "source": [
    "The position of a biomedical entity's mention in the text is determined by two ‘offset’ numbers: ‘offset_start’ and ‘offset_finish’, which indicate the index of the character where a given mention substring begins and ends, respectively. The input string considered for these indices is the concatenation of the title and abstract strings in the following manner: string = title + ' ' + abstract (i.e., there is one extra character between the 2 when accounting for the offset). "
   ]
  },
  {
   "cell_type": "code",
   "execution_count": 198,
   "id": "099a4d9d",
   "metadata": {},
   "outputs": [],
   "source": [
    "# custom entity recognition using spacy\n",
    "nlp = sp.blank(\"en\") # creates a blank pipeline\n",
    "ruler = nlp.add_pipe(\"entity_ruler\") # adds entity ruling component to the pipeline\n",
    "patterns = entities_train[[\"type\", \"mention\"]].rename(columns={\"type\": \"label\", \"mention\": \"pattern\"}).to_dict(\"records\") # a dictionary of the patterns\n",
    "ruler.add_patterns(patterns) # adds patterns to the pipeline\n",
    "texts = abstract_test[\"full\"].tolist()\n",
    "answers = []\n",
    "for doc in nlp.pipe(texts, n_process=4, batch_size=2000):\n",
    "    answers.append([(ent.label_, ent.start_char, ent.end_char) for ent in doc.ents])"
   ]
  },
  {
   "cell_type": "code",
   "execution_count": 199,
   "id": "a07ecb28",
   "metadata": {},
   "outputs": [],
   "source": [
    "# data transformation following submission example\n",
    "submission = abstract_test.drop([\"title\", \"abstract\", \"full\"], axis=1) # grabbing only id and abstract id for submission file\n",
    "answers = pd.DataFrame([i for i in enumerate(answers)], columns=[\"id\", \"ans\"]) # create dataframe from predictions\n",
    "data = submission.merge(answers, how=\"inner\", on=\"id\") # combine both predictions ids\n",
    "data['ans'] = data[\"ans\"].astype('str') # change attributes type\n",
    "data[\"ans\"] = data['ans'].str.replace(r'^\\s+|\\(+|\\'+|\\[+|\\]+|\\,+', '', regex=True) # clean the data \n",
    "data = submission.merge(data['ans'].str.split(\"\\)\", expand=True).reset_index().rename(columns={\"index\": \"id\"}), how=\"inner\", on=\"id\") # split all the entities to their seperate column\n",
    "data = data.melt(id_vars=[\"id\", \"abstract_id\"]).dropna().drop([\"variable\"], axis=1).sort_values(by=['abstract_id', \"id\"]) # unpivot the dataframe\n",
    "data[[\"type\", \"offset_start\", \"offset_finish\"]] = data['value'].str.split(\" \", expand=True).dropna().drop([0], axis=1) # split the entity and its positions\n",
    "data.dropna(inplace=True) # need to work on this\n",
    "data = data[['id', 'abstract_id', 'offset_start', 'offset_finish', 'type']] # reorder the columns\n",
    "data.to_csv(\"submission.csv\", sep=\"\\t\", index=False) # save data "
   ]
  },
  {
   "cell_type": "code",
   "execution_count": 218,
   "id": "d5229926",
   "metadata": {},
   "outputs": [
    {
     "name": "stdout",
     "output_type": "stream",
     "text": [
      "     id  abstract_id offset_start offset_finish                        type\n",
      "100   0      1711760           58            66  DiseaseOrPhenotypicFeature\n",
      "200   0      1711760           78            89  DiseaseOrPhenotypicFeature\n",
      "300   0      1711760          113           125  DiseaseOrPhenotypicFeature\n",
      "400   0      1711760          208           219  DiseaseOrPhenotypicFeature\n",
      "500   0      1711760          325           337  DiseaseOrPhenotypicFeature\n"
     ]
    }
   ],
   "source": [
    "# predicted entities\n",
    "print(data.head())"
   ]
  },
  {
   "cell_type": "code",
   "execution_count": 134,
   "id": "4e8b61cf",
   "metadata": {},
   "outputs": [
    {
     "data": {
      "text/html": [
       "<span class=\"tex2jax_ignore\"><div class=\"entities\" style=\"line-height: 2.5; direction: ltr\">\n",
       "<mark class=\"entity\" style=\"background: #57d921; padding: 0.45em 0.6em; margin: 0 0.25em; line-height: 1; border-radius: 0.35em;\">\n",
       "    Ca2+\n",
       "    <span style=\"font-size: 0.8em; font-weight: bold; line-height: 1; border-radius: 0.35em; vertical-align: middle; margin-left: 0.5rem\">ChemicalEntity</span>\n",
       "</mark>\n",
       "-dependent endoplasmic reticulum stress correlation with astrogliosis involves upregulation of KCa3.1 and inhibition of \n",
       "<mark class=\"entity\" style=\"background: #9d34f1; padding: 0.45em 0.6em; margin: 0 0.25em; line-height: 1; border-radius: 0.35em;\">\n",
       "    AKT\n",
       "    <span style=\"font-size: 0.8em; font-weight: bold; line-height: 1; border-radius: 0.35em; vertical-align: middle; margin-left: 0.5rem\">GeneOrGeneProduct</span>\n",
       "</mark>\n",
       "/\n",
       "<mark class=\"entity\" style=\"background: #9d34f1; padding: 0.45em 0.6em; margin: 0 0.25em; line-height: 1; border-radius: 0.35em;\">\n",
       "    mTOR\n",
       "    <span style=\"font-size: 0.8em; font-weight: bold; line-height: 1; border-radius: 0.35em; vertical-align: middle; margin-left: 0.5rem\">GeneOrGeneProduct</span>\n",
       "</mark>\n",
       " signaling. BACKGROUND: The intermediate-conductance \n",
       "<mark class=\"entity\" style=\"background: #57d921; padding: 0.45em 0.6em; margin: 0 0.25em; line-height: 1; border-radius: 0.35em;\">\n",
       "    Ca2+\n",
       "    <span style=\"font-size: 0.8em; font-weight: bold; line-height: 1; border-radius: 0.35em; vertical-align: middle; margin-left: 0.5rem\">ChemicalEntity</span>\n",
       "</mark>\n",
       "-activated K+ channel KCa3.1 was recently shown to control the phenotype switch of reactive astrogliosis (\n",
       "<mark class=\"entity\" style=\"background: #5dd8d2; padding: 0.45em 0.6em; margin: 0 0.25em; line-height: 1; border-radius: 0.35em;\">\n",
       "    RA\n",
       "    <span style=\"font-size: 0.8em; font-weight: bold; line-height: 1; border-radius: 0.35em; vertical-align: middle; margin-left: 0.5rem\">DiseaseOrPhenotypicFeature</span>\n",
       "</mark>\n",
       ") in \n",
       "<mark class=\"entity\" style=\"background: #5dd8d2; padding: 0.45em 0.6em; margin: 0 0.25em; line-height: 1; border-radius: 0.35em;\">\n",
       "    Alzheimer's disease\n",
       "    <span style=\"font-size: 0.8em; font-weight: bold; line-height: 1; border-radius: 0.35em; vertical-align: middle; margin-left: 0.5rem\">DiseaseOrPhenotypicFeature</span>\n",
       "</mark>\n",
       " (\n",
       "<mark class=\"entity\" style=\"background: #5dd8d2; padding: 0.45em 0.6em; margin: 0 0.25em; line-height: 1; border-radius: 0.35em;\">\n",
       "    AD\n",
       "    <span style=\"font-size: 0.8em; font-weight: bold; line-height: 1; border-radius: 0.35em; vertical-align: middle; margin-left: 0.5rem\">DiseaseOrPhenotypicFeature</span>\n",
       "</mark>\n",
       "). METHODS: KCa3.1 channels expression and cell localization in the brains of \n",
       "<mark class=\"entity\" style=\"background: #5dd8d2; padding: 0.45em 0.6em; margin: 0 0.25em; line-height: 1; border-radius: 0.35em;\">\n",
       "    AD\n",
       "    <span style=\"font-size: 0.8em; font-weight: bold; line-height: 1; border-radius: 0.35em; vertical-align: middle; margin-left: 0.5rem\">DiseaseOrPhenotypicFeature</span>\n",
       "</mark>\n",
       " \n",
       "<mark class=\"entity\" style=\"background: #ec0639; padding: 0.45em 0.6em; margin: 0 0.25em; line-height: 1; border-radius: 0.35em;\">\n",
       "    patients\n",
       "    <span style=\"font-size: 0.8em; font-weight: bold; line-height: 1; border-radius: 0.35em; vertical-align: middle; margin-left: 0.5rem\">OrganismTaxon</span>\n",
       "</mark>\n",
       " and APP/PS1 \n",
       "<mark class=\"entity\" style=\"background: #ec0639; padding: 0.45em 0.6em; margin: 0 0.25em; line-height: 1; border-radius: 0.35em;\">\n",
       "    mice\n",
       "    <span style=\"font-size: 0.8em; font-weight: bold; line-height: 1; border-radius: 0.35em; vertical-align: middle; margin-left: 0.5rem\">OrganismTaxon</span>\n",
       "</mark>\n",
       " model were measured by immunoblotting and immunostaining. APP/PS1 \n",
       "<mark class=\"entity\" style=\"background: #ec0639; padding: 0.45em 0.6em; margin: 0 0.25em; line-height: 1; border-radius: 0.35em;\">\n",
       "    mice\n",
       "    <span style=\"font-size: 0.8em; font-weight: bold; line-height: 1; border-radius: 0.35em; vertical-align: middle; margin-left: 0.5rem\">OrganismTaxon</span>\n",
       "</mark>\n",
       " and KCa3.1-/-/APP/PS1 \n",
       "<mark class=\"entity\" style=\"background: #ec0639; padding: 0.45em 0.6em; margin: 0 0.25em; line-height: 1; border-radius: 0.35em;\">\n",
       "    mice\n",
       "    <span style=\"font-size: 0.8em; font-weight: bold; line-height: 1; border-radius: 0.35em; vertical-align: middle; margin-left: 0.5rem\">OrganismTaxon</span>\n",
       "</mark>\n",
       " were subjected to Morris water maze test to evaluate the spatial \n",
       "<mark class=\"entity\" style=\"background: #5dd8d2; padding: 0.45em 0.6em; margin: 0 0.25em; line-height: 1; border-radius: 0.35em;\">\n",
       "    memory deficits\n",
       "    <span style=\"font-size: 0.8em; font-weight: bold; line-height: 1; border-radius: 0.35em; vertical-align: middle; margin-left: 0.5rem\">DiseaseOrPhenotypicFeature</span>\n",
       "</mark>\n",
       ". Glia activation and neuron loss was measured by immunostaining. Fluo-4AM was used to measure cytosolic \n",
       "<mark class=\"entity\" style=\"background: #57d921; padding: 0.45em 0.6em; margin: 0 0.25em; line-height: 1; border-radius: 0.35em;\">\n",
       "    Ca2+\n",
       "    <span style=\"font-size: 0.8em; font-weight: bold; line-height: 1; border-radius: 0.35em; vertical-align: middle; margin-left: 0.5rem\">ChemicalEntity</span>\n",
       "</mark>\n",
       " level in beta-amyloid (Abeta) induced reactive astrocytes in vitro. RESULTS: KCa3.1 expression was markedly associated with endoplasmic reticulum (ER) stress and unfolded protein response (UPR) in both Abeta-stimulated primary astrocytes and brain lysates of \n",
       "<mark class=\"entity\" style=\"background: #5dd8d2; padding: 0.45em 0.6em; margin: 0 0.25em; line-height: 1; border-radius: 0.35em;\">\n",
       "    AD\n",
       "    <span style=\"font-size: 0.8em; font-weight: bold; line-height: 1; border-radius: 0.35em; vertical-align: middle; margin-left: 0.5rem\">DiseaseOrPhenotypicFeature</span>\n",
       "</mark>\n",
       " \n",
       "<mark class=\"entity\" style=\"background: #ec0639; padding: 0.45em 0.6em; margin: 0 0.25em; line-height: 1; border-radius: 0.35em;\">\n",
       "    patients\n",
       "    <span style=\"font-size: 0.8em; font-weight: bold; line-height: 1; border-radius: 0.35em; vertical-align: middle; margin-left: 0.5rem\">OrganismTaxon</span>\n",
       "</mark>\n",
       " and APP/PS1 \n",
       "<mark class=\"entity\" style=\"background: #5dd8d2; padding: 0.45em 0.6em; margin: 0 0.25em; line-height: 1; border-radius: 0.35em;\">\n",
       "    AD\n",
       "    <span style=\"font-size: 0.8em; font-weight: bold; line-height: 1; border-radius: 0.35em; vertical-align: middle; margin-left: 0.5rem\">DiseaseOrPhenotypicFeature</span>\n",
       "</mark>\n",
       " \n",
       "<mark class=\"entity\" style=\"background: #ec0639; padding: 0.45em 0.6em; margin: 0 0.25em; line-height: 1; border-radius: 0.35em;\">\n",
       "    mice\n",
       "    <span style=\"font-size: 0.8em; font-weight: bold; line-height: 1; border-radius: 0.35em; vertical-align: middle; margin-left: 0.5rem\">OrganismTaxon</span>\n",
       "</mark>\n",
       ". The KCa3.1 channel was shown to regulate store-operated \n",
       "<mark class=\"entity\" style=\"background: #57d921; padding: 0.45em 0.6em; margin: 0 0.25em; line-height: 1; border-radius: 0.35em;\">\n",
       "    Ca2+\n",
       "    <span style=\"font-size: 0.8em; font-weight: bold; line-height: 1; border-radius: 0.35em; vertical-align: middle; margin-left: 0.5rem\">ChemicalEntity</span>\n",
       "</mark>\n",
       " entry (SOCE) through an interaction with the \n",
       "<mark class=\"entity\" style=\"background: #57d921; padding: 0.45em 0.6em; margin: 0 0.25em; line-height: 1; border-radius: 0.35em;\">\n",
       "    Ca2+\n",
       "    <span style=\"font-size: 0.8em; font-weight: bold; line-height: 1; border-radius: 0.35em; vertical-align: middle; margin-left: 0.5rem\">ChemicalEntity</span>\n",
       "</mark>\n",
       " channel Orai1 in primary astrocytes. Gene deletion or pharmacological blockade of KCa3.1 protected against SOCE-induced \n",
       "<mark class=\"entity\" style=\"background: #57d921; padding: 0.45em 0.6em; margin: 0 0.25em; line-height: 1; border-radius: 0.35em;\">\n",
       "    Ca2+\n",
       "    <span style=\"font-size: 0.8em; font-weight: bold; line-height: 1; border-radius: 0.35em; vertical-align: middle; margin-left: 0.5rem\">ChemicalEntity</span>\n",
       "</mark>\n",
       " overload and ER stress via the protein kinase B (\n",
       "<mark class=\"entity\" style=\"background: #9d34f1; padding: 0.45em 0.6em; margin: 0 0.25em; line-height: 1; border-radius: 0.35em;\">\n",
       "    AKT\n",
       "    <span style=\"font-size: 0.8em; font-weight: bold; line-height: 1; border-radius: 0.35em; vertical-align: middle; margin-left: 0.5rem\">GeneOrGeneProduct</span>\n",
       "</mark>\n",
       ") signaling pathway in astrocytes. Importantly, gene deletion or blockade of KCa3.1 restored \n",
       "<mark class=\"entity\" style=\"background: #9d34f1; padding: 0.45em 0.6em; margin: 0 0.25em; line-height: 1; border-radius: 0.35em;\">\n",
       "    AKT\n",
       "    <span style=\"font-size: 0.8em; font-weight: bold; line-height: 1; border-radius: 0.35em; vertical-align: middle; margin-left: 0.5rem\">GeneOrGeneProduct</span>\n",
       "</mark>\n",
       "/mechanistic target of rapamycin signaling both in vivo and in vitro. Consistent with these in vitro data, expression levels of the ER stress markers 78-kDa \n",
       "<mark class=\"entity\" style=\"background: #57d921; padding: 0.45em 0.6em; margin: 0 0.25em; line-height: 1; border-radius: 0.35em;\">\n",
       "    glucose\n",
       "    <span style=\"font-size: 0.8em; font-weight: bold; line-height: 1; border-radius: 0.35em; vertical-align: middle; margin-left: 0.5rem\">ChemicalEntity</span>\n",
       "</mark>\n",
       "-regulated protein and CCAAT/enhancer-binding protein homologous protein, as well as that of the \n",
       "<mark class=\"entity\" style=\"background: #5dd8d2; padding: 0.45em 0.6em; margin: 0 0.25em; line-height: 1; border-radius: 0.35em;\">\n",
       "    RA\n",
       "    <span style=\"font-size: 0.8em; font-weight: bold; line-height: 1; border-radius: 0.35em; vertical-align: middle; margin-left: 0.5rem\">DiseaseOrPhenotypicFeature</span>\n",
       "</mark>\n",
       " marker glial fibrillary acidic protein were increased in APP/PS1 \n",
       "<mark class=\"entity\" style=\"background: #5dd8d2; padding: 0.45em 0.6em; margin: 0 0.25em; line-height: 1; border-radius: 0.35em;\">\n",
       "    AD\n",
       "    <span style=\"font-size: 0.8em; font-weight: bold; line-height: 1; border-radius: 0.35em; vertical-align: middle; margin-left: 0.5rem\">DiseaseOrPhenotypicFeature</span>\n",
       "</mark>\n",
       " \n",
       "<mark class=\"entity\" style=\"background: #ec0639; padding: 0.45em 0.6em; margin: 0 0.25em; line-height: 1; border-radius: 0.35em;\">\n",
       "    mouse\n",
       "    <span style=\"font-size: 0.8em; font-weight: bold; line-height: 1; border-radius: 0.35em; vertical-align: middle; margin-left: 0.5rem\">OrganismTaxon</span>\n",
       "</mark>\n",
       " model. Elimination of KCa3.1 in KCa3.1-/-/APP/PS1 \n",
       "<mark class=\"entity\" style=\"background: #ec0639; padding: 0.45em 0.6em; margin: 0 0.25em; line-height: 1; border-radius: 0.35em;\">\n",
       "    mice\n",
       "    <span style=\"font-size: 0.8em; font-weight: bold; line-height: 1; border-radius: 0.35em; vertical-align: middle; margin-left: 0.5rem\">OrganismTaxon</span>\n",
       "</mark>\n",
       " corrected these abnormal responses. Moreover, glial activation and neuroinflammation were attenuated in the hippocampi of KCa3.1-/-/APP/PS1 \n",
       "<mark class=\"entity\" style=\"background: #ec0639; padding: 0.45em 0.6em; margin: 0 0.25em; line-height: 1; border-radius: 0.35em;\">\n",
       "    mice\n",
       "    <span style=\"font-size: 0.8em; font-weight: bold; line-height: 1; border-radius: 0.35em; vertical-align: middle; margin-left: 0.5rem\">OrganismTaxon</span>\n",
       "</mark>\n",
       ", as compared with APP/PS1 \n",
       "<mark class=\"entity\" style=\"background: #ec0639; padding: 0.45em 0.6em; margin: 0 0.25em; line-height: 1; border-radius: 0.35em;\">\n",
       "    mice\n",
       "    <span style=\"font-size: 0.8em; font-weight: bold; line-height: 1; border-radius: 0.35em; vertical-align: middle; margin-left: 0.5rem\">OrganismTaxon</span>\n",
       "</mark>\n",
       ". In addition, \n",
       "<mark class=\"entity\" style=\"background: #5dd8d2; padding: 0.45em 0.6em; margin: 0 0.25em; line-height: 1; border-radius: 0.35em;\">\n",
       "    memory deficits\n",
       "    <span style=\"font-size: 0.8em; font-weight: bold; line-height: 1; border-radius: 0.35em; vertical-align: middle; margin-left: 0.5rem\">DiseaseOrPhenotypicFeature</span>\n",
       "</mark>\n",
       " and neuronal loss in APP/PS1 \n",
       "<mark class=\"entity\" style=\"background: #ec0639; padding: 0.45em 0.6em; margin: 0 0.25em; line-height: 1; border-radius: 0.35em;\">\n",
       "    mice\n",
       "    <span style=\"font-size: 0.8em; font-weight: bold; line-height: 1; border-radius: 0.35em; vertical-align: middle; margin-left: 0.5rem\">OrganismTaxon</span>\n",
       "</mark>\n",
       " were reversed in KCa3.1-/-/APP/PS1 \n",
       "<mark class=\"entity\" style=\"background: #ec0639; padding: 0.45em 0.6em; margin: 0 0.25em; line-height: 1; border-radius: 0.35em;\">\n",
       "    mice\n",
       "    <span style=\"font-size: 0.8em; font-weight: bold; line-height: 1; border-radius: 0.35em; vertical-align: middle; margin-left: 0.5rem\">OrganismTaxon</span>\n",
       "</mark>\n",
       ". CONCLUSIONS: Overall, these results suggest that KCa3.1 is involved in the regulation of \n",
       "<mark class=\"entity\" style=\"background: #57d921; padding: 0.45em 0.6em; margin: 0 0.25em; line-height: 1; border-radius: 0.35em;\">\n",
       "    Ca2+\n",
       "    <span style=\"font-size: 0.8em; font-weight: bold; line-height: 1; border-radius: 0.35em; vertical-align: middle; margin-left: 0.5rem\">ChemicalEntity</span>\n",
       "</mark>\n",
       " homeostasis in astrocytes and attenuation of the UPR and ER stress, thus contributing to \n",
       "<mark class=\"entity\" style=\"background: #5dd8d2; padding: 0.45em 0.6em; margin: 0 0.25em; line-height: 1; border-radius: 0.35em;\">\n",
       "    memory deficits\n",
       "    <span style=\"font-size: 0.8em; font-weight: bold; line-height: 1; border-radius: 0.35em; vertical-align: middle; margin-left: 0.5rem\">DiseaseOrPhenotypicFeature</span>\n",
       "</mark>\n",
       " and neuronal loss.</div></span>"
      ],
      "text/plain": [
       "<IPython.core.display.HTML object>"
      ]
     },
     "metadata": {},
     "output_type": "display_data"
    }
   ],
   "source": [
    "# create a named entity visualizer \n",
    "type = entities_train[\"type\"].unique().tolist() # keys for color value\n",
    "color = [\"#5dd8d2\", \"#9d34f1\", \"#444c63\", \"#ec0639\", \"#57d921\", \"#fe2a9f\"] # color values\n",
    "colors = {type[i]: color[i] for i in range(len(type))} # creates dictionary of the color keys and values\n",
    "options = {\"ents\": type, \"colors\": colors} # assigns the colors to entity\n",
    "sp.displacy.render(doc, style=\"ent\", jupyter=True, options=options) # renders the entities"
   ]
  }
 ],
 "metadata": {
  "kernelspec": {
   "display_name": "Python 3 (ipykernel)",
   "language": "python",
   "name": "python3"
  },
  "language_info": {
   "codemirror_mode": {
    "name": "ipython",
    "version": 3
   },
   "file_extension": ".py",
   "mimetype": "text/x-python",
   "name": "python",
   "nbconvert_exporter": "python",
   "pygments_lexer": "ipython3",
   "version": "3.9.7"
  }
 },
 "nbformat": 4,
 "nbformat_minor": 5
}
